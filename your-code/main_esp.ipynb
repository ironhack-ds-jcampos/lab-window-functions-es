{
 "cells": [
  {
   "cell_type": "markdown",
   "id": "b4ba9fdc",
   "metadata": {},
   "source": [
    "### 1. Calcular la duración media del alquiler (en días) para cada película:"
   ]
  },
  {
   "cell_type": "markdown",
   "id": "ca70ce77",
   "metadata": {},
   "source": [
    "```sql\n",
    "SELECT\n",
    "\tDISTINCT f.title,\n",
    "\tf.rental_duration,\n",
    "\tAVG(COALESCE(DATEDIFF(r.return_date, r.rental_date), 0)) AS 'avg_rental_duration'\n",
    "FROM\n",
    "\tfilm f\n",
    "INNER JOIN inventory i ON\n",
    "\ti.film_id = f.film_id\n",
    "INNER JOIN rental r ON\n",
    "\tr.inventory_id = i.inventory_id\n",
    "GROUP BY\n",
    "\tf.film_id;\n",
    "```"
   ]
  },
  {
   "cell_type": "markdown",
   "id": "976e6175",
   "metadata": {},
   "source": [
    "|title|rental_duration|avg_rental_duration|\n",
    "|-----|---------------|-------------------|\n",
    "|ACADEMY DINOSAUR|6              |4.9850             |\n",
    "|ACE GOLDFINGER|3              |4.9850             |\n",
    "|ADAPTATION HOLES|7              |4.9850             |\n",
    "|AFFAIR PREJUDICE|5              |4.9850             |\n",
    "|AFRICAN EGG|6              |4.9850             |\n",
    "|AGENT TRUMAN|3              |4.9850             |\n",
    "|AIRPLANE SIERRA|6              |4.9850             |\n",
    "|AIRPORT POLLOCK|6              |4.9850             |\n",
    "|ALABAMA DEVIL|3              |4.9850             |\n",
    "|ALADDIN CALENDAR|6              |4.9850             |\n",
    "|ALAMO VIDEOTAPE|6              |4.9850             |\n",
    "|ALASKA PHANTOM|6              |4.9850             |\n",
    "|ALI FOREVER|4              |4.9850             |\n",
    "|ALICE FANTASIA|6              |4.9850             |\n"
   ]
  },
  {
   "cell_type": "markdown",
   "id": "c7f7ea37",
   "metadata": {},
   "source": [
    "### 2. Calcular el importe medio de los pagos para cada miembro del personal:"
   ]
  },
  {
   "cell_type": "markdown",
   "id": "a7195632",
   "metadata": {},
   "source": [
    "```sql\n",
    "SELECT s.staff_id, AVG(p.amount) AS 'avg_payment_amount'\n",
    "FROM staff s\n",
    "INNER JOIN rental r ON r.staff_id = s.staff_id\n",
    "INNER JOIN payment p ON p.rental_id = r.rental_id\n",
    "GROUP BY s.staff_id;\n",
    "```"
   ]
  },
  {
   "cell_type": "markdown",
   "id": "ab5db2a1",
   "metadata": {},
   "source": []
  },
  {
   "cell_type": "markdown",
   "id": "fc636d47",
   "metadata": {},
   "source": [
    "#### Output\n",
    "\n",
    "|staff_id|avg_payment_amount|\n",
    "|--------|------------------|\n",
    "|1       |4.156568          |\n",
    "|1       |4.156568          |\n",
    "|1       |4.156568          |\n",
    "|1       |4.156568          |\n",
    "|1       |4.156568          |\n",
    "|1       |4.156568          |\n",
    "|1       |4.156568          |"
   ]
  },
  {
   "cell_type": "markdown",
   "id": "d307de0e",
   "metadata": {},
   "source": [
    "### 3. Calcular los ingresos totales para cada cliente, mostrando el total acumulado dentro del historial de alquileres de cada cliente:"
   ]
  },
  {
   "cell_type": "markdown",
   "id": "6130585f",
   "metadata": {},
   "source": [
    "```sql\n",
    "SELECT\n",
    "\tc.customer_id,\n",
    "\tr.rental_id,\n",
    "\tr.rental_date,\n",
    "\tp.amount,\n",
    "\tSUM(p.amount) OVER (\n",
    "\tORDER BY c.customer_id,\n",
    "\tr.rental_id) AS 'running_total'\n",
    "FROM\n",
    "\tcustomer c\n",
    "INNER JOIN rental r ON\n",
    "\tr.customer_id = c.customer_id\n",
    "INNER JOIN payment p ON\n",
    "\tp.rental_id = r.rental_id;\n",
    "```"
   ]
  },
  {
   "cell_type": "markdown",
   "id": "321655d4",
   "metadata": {},
   "source": [
    "#### Output\n",
    "\n",
    "|customer_id|rental_id|rental_date        |amount|running_total|\n",
    "|-----------|---------|-------------------|------|-------------|\n",
    "|1          |76       |2005-05-25 11:30:37|2.99  |2.99         |\n",
    "|1          |573      |2005-05-28 10:35:23|0.99  |3.98         |\n",
    "|1          |1185     |2005-06-15 00:54:12|5.99  |9.97         |\n",
    "|1          |1422     |2005-06-15 18:02:53|0.99  |10.96        |\n",
    "|1          |1476     |2005-06-15 21:08:46|9.99  |20.95        |\n",
    "|1          |1725     |2005-06-16 15:18:57|4.99  |25.94        |\n",
    "|1          |2308     |2005-06-18 08:41:48|4.99  |30.93        |\n",
    "|1          |2363     |2005-06-18 13:33:59|0.99  |31.92        |\n",
    "|1          |3284     |2005-06-21 06:24:45|3.99  |35.91        |\n",
    "|1          |4526     |2005-07-08 03:17:05|5.99  |41.90        |"
   ]
  },
  {
   "cell_type": "markdown",
   "id": "e4eb28f2",
   "metadata": {},
   "source": [
    "### 4. Determinar el cuartil para las tarifas de alquiler de las películas"
   ]
  },
  {
   "cell_type": "markdown",
   "id": "49564fdf",
   "metadata": {},
   "source": [
    "```sql\n",
    "SELECT\n",
    "\tf.title,\n",
    "\tf.rental_rate,\n",
    "\tNTILE(4) OVER (\n",
    "\tORDER BY f.rental_rate) AS 'quartile'\n",
    "FROM\n",
    "\tfilm f\n",
    "ORDER BY\n",
    "\tf.rental_rate,\n",
    "\tf.title;\n",
    "```"
   ]
  },
  {
   "cell_type": "markdown",
   "id": "2e644f07",
   "metadata": {},
   "source": [
    "#### Output\n",
    "\n",
    "|title|rental_rate|quartile           |\n",
    "|-----|-----------|-------------------|\n",
    "|ACADEMY DINOSAUR|0.99       |1                  |\n",
    "|ALAMO VIDEOTAPE|0.99       |1                  |\n",
    "|ALASKA PHANTOM|0.99       |1                  |\n",
    "|ALICE FANTASIA|0.99       |1                  |\n",
    "|ALONE TRIP|0.99       |1                  |\n",
    "|ALTER VICTORY|0.99       |1                  |\n",
    "|AMADEUS HOLY|0.99       |1                  |\n",
    "|ANACONDA CONFESSIONS|0.99       |1                  |\n",
    "|ANNIE IDENTITY|0.99       |1                  |\n",
    "|ANONYMOUS HUMAN|0.99       |1                  |\n"
   ]
  },
  {
   "cell_type": "markdown",
   "id": "dba9ef04",
   "metadata": {},
   "source": [
    "### 5. Determinar la primera y última fecha de alquiler para cada cliente:"
   ]
  },
  {
   "cell_type": "markdown",
   "id": "84bd863c",
   "metadata": {},
   "source": [
    "```sql\n",
    "SELECT c.customer_id, MIN(r.rental_date) AS 'first_rental_date', MAX(r.rental_date) AS 'last_rental_date'\n",
    "FROM customer c\n",
    "LEFT JOIN rental r ON r.customer_id = c.customer_id\n",
    "GROUP BY c.customer_id;\n",
    "```"
   ]
  },
  {
   "cell_type": "markdown",
   "id": "d95dab7b",
   "metadata": {},
   "source": [
    "#### Expected result\n",
    "\n",
    "|customer_id|first_rental_date|last_rental_date   |\n",
    "|-----------|-----------------|-------------------|\n",
    "|1          |2005-05-25 11:30:37|2005-08-22 20:03:46|\n",
    "|1          |2005-05-25 11:30:37|2005-08-22 20:03:46|\n",
    "|1          |2005-05-25 11:30:37|2005-08-22 20:03:46|\n",
    "|1          |2005-05-25 11:30:37|2005-08-22 20:03:46|\n",
    "|1          |2005-05-25 11:30:37|2005-08-22 20:03:46|\n",
    "|1          |2005-05-25 11:30:37|2005-08-22 20:03:46|\n",
    "|1          |2005-05-25 11:30:37|2005-08-22 20:03:46|\n",
    "|1          |2005-05-25 11:30:37|2005-08-22 20:03:46|\n",
    "|1          |2005-05-25 11:30:37|2005-08-22 20:03:46|\n",
    "|1          |2005-05-25 11:30:37|2005-08-22 20:03:46|\n",
    "|1          |2005-05-25 11:30:37|2005-08-22 20:03:46|\n",
    "|1          |2005-05-25 11:30:37|2005-08-22 20:03:46|\n",
    "|1          |2005-05-25 11:30:37|2005-08-22 20:03:46|\n"
   ]
  },
  {
   "cell_type": "markdown",
   "id": "fdda139f",
   "metadata": {},
   "source": [
    "### 6. Calcular el rango de los clientes basado en el número de sus alquileres:"
   ]
  },
  {
   "cell_type": "markdown",
   "id": "dde6cc37",
   "metadata": {},
   "source": [
    "```sql\n",
    "SELECT\n",
    "\tr.customer_id,\n",
    "\tCOUNT(*) AS 'rental_count',\n",
    "\tRANK() OVER (ORDER BY COUNT(*) DESC) AS 'rental_count_rank'\n",
    "FROM\n",
    "\trental r\n",
    "GROUP BY\n",
    "\tr.customer_id;\n",
    "```"
   ]
  },
  {
   "cell_type": "markdown",
   "id": "29296a57",
   "metadata": {},
   "source": [
    "#### Expected output\n",
    "\n",
    "|customer_id|rental_count                 |rental_count_rank|\n",
    "|-----------|-----------------------------|-----------------|\n",
    "|148        |46                           |1                |\n",
    "|526        |45                           |2                |\n",
    "|144        |42                           |3                |\n",
    "|236        |42                           |3                |\n",
    "|75         |41                           |5                |\n",
    "|197        |40                           |6                |\n",
    "...|...|..."
   ]
  },
  {
   "cell_type": "markdown",
   "id": "ba05c1d1",
   "metadata": {},
   "source": [
    "### 7. Calcular el total acumulado de ingresos por día para la categoría de películas 'Familiar':"
   ]
  },
  {
   "cell_type": "markdown",
   "id": "4c9ebbce",
   "metadata": {},
   "source": [
    "```sql\n",
    "SELECT\n",
    "\tDISTINCT f.title,\n",
    "\tr.rental_date,\n",
    "\tp.amount,\n",
    "\trev.amount AS 'daily_revenue'\n",
    "FROM\n",
    "\tcategory c\n",
    "INNER JOIN film_category fc ON\n",
    "\tfc.category_id = c.category_id\n",
    "INNER JOIN film f ON\n",
    "\tf.film_id = fc.film_id\n",
    "INNER JOIN inventory i ON\n",
    "\ti.film_id = f.film_id\n",
    "INNER JOIN rental r ON\n",
    "\tr.inventory_id = i.inventory_id\n",
    "INNER JOIN payment p ON\n",
    "\tp.rental_id = r.rental_id\n",
    "LEFT JOIN (\n",
    "\tSELECT\n",
    "\t\tCAST(r2.rental_date AS DATE) AS 'date',\n",
    "\t\ti2.film_id,\n",
    "\t\tSUM(p2.amount) AS 'amount'\n",
    "\tFROM\n",
    "\t\trental r2\n",
    "\tINNER JOIN payment p2 ON\n",
    "\t\tp2.rental_id = r2.rental_id\n",
    "\tINNER JOIN inventory i2 ON\n",
    "\t\ti2.inventory_id = r2.inventory_id\n",
    "\tGROUP BY\n",
    "\t\t1,\n",
    "\t\ti2.film_id\n",
    "\t) rev ON rev.film_id = f.film_id AND rev.`date` = CAST(r.rental_date AS DATE)\n",
    "WHERE\n",
    "\tc.name = 'Family'\n",
    "ORDER BY\n",
    "\t2 ASC;\n",
    "```"
   ]
  },
  {
   "cell_type": "markdown",
   "id": "4802a08f",
   "metadata": {},
   "source": [
    "#### Expected ouput\n",
    "\n",
    "|film_category|rental_date                  |amount|daily_revenue|\n",
    "|-------------|-----------------------------|------|-------------|\n",
    "|BLANKET BEVERLY|2005-05-24 22:53:30          |2.99  |2.99         |\n",
    "|GRADUATE LORD|2005-05-24 23:03:39          |3.99  |3.99         |\n",
    "|LAWLESS VISION|2005-05-24 23:31:46          |4.99  |4.99         |\n",
    "|HANGING DEEP |2005-05-25 00:02:21          |5.99  |5.99         |\n",
    "|MONTEREY LABYRINTH|2005-05-25 00:31:15          |0.99  |0.99         |\n",
    "|SCISSORHANDS SLUMS|2005-05-25 01:48:41          |2.99  |2.99         |\n",
    "|EASY GLADIATOR|2005-05-25 03:41:50          |4.99  |4.99         |"
   ]
  },
  {
   "cell_type": "markdown",
   "id": "039b57eb",
   "metadata": {},
   "source": [
    "### 8. Asignar un ID único a cada pago dentro del historial de pagos de cada cliente:"
   ]
  },
  {
   "cell_type": "markdown",
   "id": "abcc5934",
   "metadata": {},
   "source": [
    "```sql\n",
    "SELECT\n",
    "\tcustomer_id,\n",
    "\tpayment_id,\n",
    "\tROW_NUMBER() OVER (PARTITION BY customer_id) AS 'payment_sequence_id'\n",
    "FROM\n",
    "\tpayment\n",
    "ORDER BY\n",
    "\tcustomer_id,\n",
    "\tpayment_date;\n",
    "```"
   ]
  },
  {
   "cell_type": "markdown",
   "id": "88d9603a",
   "metadata": {},
   "source": [
    "|customer_id|payment_id|payment_sequence_id|\n",
    "|-----------|----------|-------------------|\n",
    "|1          |1         |1                  |\n",
    "|1          |2         |2                  |\n",
    "|1          |3         |3                  |\n",
    "|1          |4         |4                  |\n",
    "|1          |5         |5                  |\n",
    "|1          |6         |6                  |\n",
    "|1          |7         |7                  |\n",
    "|1          |8         |8                  |\n",
    "|1          |9         |9                  |\n",
    "|1          |10        |10                 |\n",
    "|1          |11        |11                 |\n",
    "|1          |12        |12                 |\n",
    "|1          |13        |13                 |\n",
    "|1          |14        |14                 |\n",
    "|1          |15        |15                 |\n",
    "|1          |16        |16                 |\n",
    "|1          |17        |17                 |\n",
    "|1          |18        |18                 |\n",
    "|1          |19        |19                 |\n",
    "|1          |20        |20                 |\n",
    "|1          |21        |21                 |\n",
    "|1          |22        |22                 |\n",
    "|1          |23        |23                 |\n",
    "|1          |24        |24                 |\n",
    "|1          |25        |25                 |\n",
    "|1          |26        |26                 |\n",
    "|1          |27        |27                 |\n",
    "|1          |28        |28                 |\n",
    "|1          |29        |29                 |\n",
    "|1          |30        |30                 |\n",
    "|1          |31        |31                 |\n",
    "|1          |32        |32                 |\n",
    "|2          |33        |1                  |\n",
    "|2          |34        |2                  |\n",
    "|2          |35        |3                  |\n",
    "|2          |36        |4                  |\n",
    "|2          |37        |5                  |\n",
    "|2          |38        |6                  |\n",
    "|2          |39        |7                  |\n",
    "|2          |40        |8                  |\n",
    "|2          |41        |9                  |\n",
    "|2          |42        |10                 |\n",
    "|2          |43        |11                 |\n",
    "|2          |44        |12                 |\n"
   ]
  },
  {
   "cell_type": "markdown",
   "id": "2585681e",
   "metadata": {},
   "source": [
    "### 9. Calcular la diferencia en días entre cada alquiler y el alquiler anterior para cada cliente:"
   ]
  },
  {
   "cell_type": "markdown",
   "id": "b1628e16",
   "metadata": {},
   "source": [
    "```sql\n",
    "SELECT\n",
    "\tc.customer_id,\n",
    "\tr.rental_id,\n",
    "\tr.rental_date,\n",
    "\tLAG(r.rental_date) OVER (PARTITION BY r.customer_id\n",
    "ORDER BY\n",
    "\tr.rental_date) AS 'previous_rental_date',\n",
    "\tDATEDIFF(r.rental_date, LAG(r.rental_date) OVER (PARTITION BY r.customer_id\n",
    "ORDER BY\n",
    "\tr.rental_date)) AS 'days_between_rentals'\n",
    "FROM\n",
    "\tcustomer c\n",
    "INNER JOIN rental r ON\n",
    "\tr.customer_id = c.customer_id;\n",
    "```"
   ]
  },
  {
   "cell_type": "markdown",
   "id": "cdb997aa",
   "metadata": {},
   "source": [
    "#### Expected output\n",
    "\n",
    "\n",
    "|customer_id|rental_id|rental_date        |previous_rental_date|days_between_rentals|\n",
    "|-----------|---------|-------------------|--------------------|--------------------|\n",
    "|1          |76       |2005-05-25 11:30:37|NULL                |NULL                |\n",
    "|1          |573      |2005-05-28 10:35:23|2005-05-25 11:30:37 |3                   |\n",
    "|1          |1185     |2005-06-15 00:54:12|2005-05-28 10:35:23 |18                  |\n",
    "|1          |1422     |2005-06-15 18:02:53|2005-06-15 00:54:12 |0                   |\n",
    "|1          |1476     |2005-06-15 21:08:46|2005-06-15 18:02:53 |0                   |\n",
    "|1          |1725     |2005-06-16 15:18:57|2005-06-15 21:08:46 |1                   |\n",
    "|1          |2308     |2005-06-18 08:41:48|2005-06-16 15:18:57 |2                   |\n",
    "|1          |2363     |2005-06-18 13:33:59|2005-06-18 08:41:48 |0                   |\n",
    "|1          |3284     |2005-06-21 06:24:45|2005-06-18 13:33:59 |3                   |\n",
    "|1          |4526     |2005-07-08 03:17:05|2005-06-21 06:24:45 |17                  |\n",
    "|1          |4611     |2005-07-08 07:33:56|2005-07-08 03:17:05 |0                   |\n",
    "\n"
   ]
  }
 ],
 "metadata": {
  "kernelspec": {
   "display_name": "Python 3 (ipykernel)",
   "language": "python",
   "name": "python3"
  },
  "language_info": {
   "codemirror_mode": {
    "name": "ipython",
    "version": 3
   },
   "file_extension": ".py",
   "mimetype": "text/x-python",
   "name": "python",
   "nbconvert_exporter": "python",
   "pygments_lexer": "ipython3",
   "version": "3.10.12"
  },
  "nbTranslate": {
   "displayLangs": [
    "en",
    "es"
   ],
   "hotkey": "alt-a",
   "langInMainMenu": true,
   "sourceLang": "es",
   "targetLang": "en",
   "useGoogleTranslate": true
  }
 },
 "nbformat": 4,
 "nbformat_minor": 5
}
